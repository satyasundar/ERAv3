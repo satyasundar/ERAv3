{
  "nbformat": 4,
  "nbformat_minor": 0,
  "metadata": {
    "colab": {
      "provenance": [],
      "include_colab_link": true
    },
    "kernelspec": {
      "name": "python3",
      "display_name": "Python 3"
    },
    "accelerator": "GPU"
  },
  "cells": [
    {
      "cell_type": "markdown",
      "metadata": {
        "id": "view-in-github",
        "colab_type": "text"
      },
      "source": [
        "<a href=\"https://colab.research.google.com/github/satyasundar/ERAv3/blob/colab/era_s6_base_file.ipynb\" target=\"_parent\"><img src=\"https://colab.research.google.com/assets/colab-badge.svg\" alt=\"Open In Colab\"/></a>"
      ]
    },
    {
      "cell_type": "markdown",
      "source": [
        "### Different techniques used in writing new model\n",
        "1. How many layers,\n",
        "2. MaxPooling,\n",
        "3. 1x1 Convolutions,\n",
        "4. 3x3 Convolutions,\n",
        "5. Receptive Field,\n",
        "6. SoftMax,\n",
        "7. Learning Rate,\n",
        "8. Kernels and how do we decide the number of kernels?\n",
        "9. Batch Normalization,\n",
        "10. Image Normalization,\n",
        "11. Position of MaxPooling,\n",
        "12. Concept of Transition Layers,\n",
        "13. Position of Transition Layer,\n",
        "14. DropOut\n",
        "15. When do we introduce DropOut, or when do we know we have some overfitting\n",
        "16. The distance of MaxPooling from Prediction,\n",
        "17. The distance of Batch Normalization from Prediction,\n",
        "18. When do we stop convolutions and go ahead with a larger kernel or some other alternative (which we have not yet covered)\n",
        "19. How do we know our network is not going well, comparatively, very early\n",
        "20. Batch Size, and Effects of Batch Size\n",
        "21. etc (you can add more if we missed it here)\n",
        "\n",
        "\n"
      ],
      "metadata": {
        "id": "eZ6JRn-VnAC3"
      }
    },
    {
      "cell_type": "markdown",
      "source": [
        "## WRITE THE MODEL AGAIN SUCH THAT IT ACHIEVES\n",
        "1. 99.4% validation/test accuracy (50/10k split, basically we are calling Validation dataset as test dataset itself)\n",
        "2. Less than 20k Parameters\n",
        "3. You can use anything from above you want.\n",
        "4. Less than 20 Epochs\n",
        "5. Have used BN, Dropout,\n",
        "6. (Optional): a Fully connected layer or, have used GAP.\n",
        "7. To learn how to add different things we covered in this session, you can refer to this code: https://www.kaggle.com/enwei26/mnist-digits-pytorch-cnn-99 DONT COPY ARCHITECTURE, JUST LEARN HOW TO INTEGRATE THINGS LIKE DROPOUT, BATCHNORM, ETC.\n",
        "8. **Someone has achieved 99.6% in 3400 parameters in 6 epochs**\n"
      ],
      "metadata": {
        "id": "bzVTYNZVmQG7"
      }
    },
    {
      "cell_type": "code",
      "metadata": {
        "id": "0m2JWFliFfKT"
      },
      "source": [
        "from __future__ import print_function\n",
        "import torch\n",
        "import torch.nn as nn\n",
        "import torch.nn.functional as F\n",
        "import torch.optim as optim\n",
        "from torchvision import datasets, transforms"
      ],
      "execution_count": 1,
      "outputs": []
    },
    {
      "cell_type": "code",
      "metadata": {
        "id": "h_Cx9q2QFgM7"
      },
      "source": [
        "class Net(nn.Module):\n",
        "    def __init__(self):\n",
        "        super(Net, self).__init__()\n",
        "        self.conv1 = nn.Conv2d(1, 8, 3, padding=1)      #input:28x28 Output:28x28 RF:3      #input: Output: RF:\n",
        "        self.conv2 = nn.Conv2d(8, 16, 3, padding=1)     #input:28x28x8 Output:28x28x16 RF:5\n",
        "        self.pool1 = nn.MaxPool2d(2, 2)                 #input:28x28x16 Output:14x14x16 RF: 10\n",
        "        self.conv3 = nn.Conv2d(16, 32, 3, padding=1)   #input: Output: RF:\n",
        "        self.conv4 = nn.Conv2d(32, 64, 3, padding=1)  #input: Output: RF:\n",
        "        self.pool2 = nn.MaxPool2d(2, 2)                 #input: Output: RF:\n",
        "        self.conv5 = nn.Conv2d(256, 512, 3)             #input: Output: RF:\n",
        "        self.conv6 = nn.Conv2d(512, 1024, 3)            #input: Output: RF:\n",
        "        self.conv7 = nn.Conv2d(1024, 10, 3)             #input: Output: RF:\n",
        "\n",
        "        self.fc1 = nn.Linear(16*7*7, 10)\n",
        "        #self.fc2 = nn.Linear(128, 10)\n",
        "\n",
        "    def forward(self, x):\n",
        "        # x = self.pool1(F.relu(self.conv2(F.relu(self.conv1(x)))))\n",
        "        # x = self.pool2(F.relu(self.conv4(F.relu(self.conv3(x)))))\n",
        "        # x = F.relu(self.conv6(F.relu(self.conv5(x))))\n",
        "        # x = F.relu(self.conv7(x))\n",
        "        # x = x.view(-1, 10)\n",
        "\n",
        "        #my-attempt-1\n",
        "        x = self.pool1(F.relu(self.conv1(x)))\n",
        "        x = self.pool2(F.relu(self.conv2(x)))\n",
        "        x = x.view(-1, 16 * 7 * 7)\n",
        "\n",
        "        x = self.fc1(x)\n",
        "\n",
        "\n",
        "        #return F.log_softmax(x)\n",
        "        return x"
      ],
      "execution_count": 9,
      "outputs": []
    },
    {
      "cell_type": "code",
      "metadata": {
        "id": "xdydjYTZFyi3",
        "outputId": "a0bd0211-b3aa-433d-d977-5044380ee37d",
        "colab": {
          "base_uri": "https://localhost:8080/"
        }
      },
      "source": [
        "!pip install torchsummary\n",
        "from torchsummary import summary\n",
        "use_cuda = torch.cuda.is_available()\n",
        "device = torch.device(\"cuda\" if use_cuda else \"cpu\")\n",
        "model = Net().to(device)\n",
        "summary(model, input_size=(1, 28, 28))"
      ],
      "execution_count": 10,
      "outputs": [
        {
          "output_type": "stream",
          "name": "stdout",
          "text": [
            "Requirement already satisfied: torchsummary in /usr/local/lib/python3.10/dist-packages (1.5.1)\n",
            "----------------------------------------------------------------\n",
            "        Layer (type)               Output Shape         Param #\n",
            "================================================================\n",
            "            Conv2d-1            [-1, 8, 28, 28]              80\n",
            "         MaxPool2d-2            [-1, 8, 14, 14]               0\n",
            "            Conv2d-3           [-1, 16, 14, 14]           1,168\n",
            "         MaxPool2d-4             [-1, 16, 7, 7]               0\n",
            "            Linear-5                   [-1, 10]           7,850\n",
            "================================================================\n",
            "Total params: 9,098\n",
            "Trainable params: 9,098\n",
            "Non-trainable params: 0\n",
            "----------------------------------------------------------------\n",
            "Input size (MB): 0.00\n",
            "Forward/backward pass size (MB): 0.09\n",
            "Params size (MB): 0.03\n",
            "Estimated Total Size (MB): 0.13\n",
            "----------------------------------------------------------------\n"
          ]
        }
      ]
    },
    {
      "cell_type": "code",
      "metadata": {
        "id": "DqTWLaM5GHgH"
      },
      "source": [
        "\n",
        "\n",
        "torch.manual_seed(1)\n",
        "batch_size = 128\n",
        "\n",
        "kwargs = {'num_workers': 1, 'pin_memory': True} if use_cuda else {}\n",
        "train_loader = torch.utils.data.DataLoader(\n",
        "    datasets.MNIST('../data', train=True, download=True,\n",
        "                    transform=transforms.Compose([\n",
        "                        transforms.ToTensor(),\n",
        "                        transforms.Normalize((0.1307,), (0.3081,))\n",
        "                    ])),\n",
        "    batch_size=batch_size, shuffle=True, **kwargs)\n",
        "test_loader = torch.utils.data.DataLoader(\n",
        "    datasets.MNIST('../data', train=False, transform=transforms.Compose([\n",
        "                        transforms.ToTensor(),\n",
        "                        transforms.Normalize((0.1307,), (0.3081,))\n",
        "                    ])),\n",
        "    batch_size=batch_size, shuffle=True, **kwargs)\n"
      ],
      "execution_count": 11,
      "outputs": []
    },
    {
      "cell_type": "code",
      "metadata": {
        "id": "8fDefDhaFlwH"
      },
      "source": [
        "from tqdm import tqdm\n",
        "def train(model, device, train_loader, optimizer, epoch):\n",
        "    model.train()\n",
        "    pbar = tqdm(train_loader)\n",
        "    for batch_idx, (data, target) in enumerate(pbar):\n",
        "        data, target = data.to(device), target.to(device)\n",
        "        optimizer.zero_grad()\n",
        "        output = model(data)\n",
        "        loss = F.nll_loss(output, target)\n",
        "        loss.backward()\n",
        "        optimizer.step()\n",
        "        pbar.set_description(desc= f'loss={loss.item()} batch_id={batch_idx}')\n",
        "\n",
        "\n",
        "def test(model, device, test_loader):\n",
        "    model.eval()\n",
        "    test_loss = 0\n",
        "    correct = 0\n",
        "    with torch.no_grad():\n",
        "        for data, target in test_loader:\n",
        "            data, target = data.to(device), target.to(device)\n",
        "            output = model(data)\n",
        "            test_loss += F.nll_loss(output, target, reduction='sum').item()  # sum up batch loss\n",
        "            pred = output.argmax(dim=1, keepdim=True)  # get the index of the max log-probability\n",
        "            correct += pred.eq(target.view_as(pred)).sum().item()\n",
        "\n",
        "    test_loss /= len(test_loader.dataset)\n",
        "\n",
        "    print('\\nTest set: Average loss: {:.4f}, Accuracy: {}/{} ({:.0f}%)\\n'.format(\n",
        "        test_loss, correct, len(test_loader.dataset),\n",
        "        100. * correct / len(test_loader.dataset)))"
      ],
      "execution_count": 12,
      "outputs": []
    },
    {
      "cell_type": "code",
      "metadata": {
        "id": "MMWbLWO6FuHb",
        "outputId": "16e1a86d-97ac-4fbb-8dad-a166fe0abbb2",
        "colab": {
          "base_uri": "https://localhost:8080/"
        }
      },
      "source": [
        "\n",
        "model = Net().to(device)\n",
        "optimizer = optim.SGD(model.parameters(), lr=0.01, momentum=0.9)\n",
        "\n",
        "for epoch in range(1, 2):\n",
        "    print(epoch)\n",
        "    train(model, device, train_loader, optimizer, epoch)\n",
        "    test(model, device, test_loader)"
      ],
      "execution_count": 13,
      "outputs": [
        {
          "output_type": "stream",
          "name": "stderr",
          "text": [
            "loss=nan batch_id=468: 100%|██████████| 469/469 [00:18<00:00, 25.17it/s]\n"
          ]
        },
        {
          "output_type": "stream",
          "name": "stdout",
          "text": [
            "\n",
            "Test set: Average loss: nan, Accuracy: 980/10000 (10%)\n",
            "\n"
          ]
        }
      ]
    },
    {
      "cell_type": "code",
      "metadata": {
        "id": "So5uk4EkHW6R"
      },
      "source": [],
      "execution_count": null,
      "outputs": []
    }
  ]
}