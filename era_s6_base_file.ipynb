{
  "nbformat": 4,
  "nbformat_minor": 0,
  "metadata": {
    "colab": {
      "provenance": [],
      "include_colab_link": true
    },
    "kernelspec": {
      "name": "python3",
      "display_name": "Python 3"
    },
    "accelerator": "GPU"
  },
  "cells": [
    {
      "cell_type": "markdown",
      "metadata": {
        "id": "view-in-github",
        "colab_type": "text"
      },
      "source": [
        "<a href=\"https://colab.research.google.com/github/satyasundar/ERAv3/blob/colab/era_s6_base_file.ipynb\" target=\"_parent\"><img src=\"https://colab.research.google.com/assets/colab-badge.svg\" alt=\"Open In Colab\"/></a>"
      ]
    },
    {
      "cell_type": "markdown",
      "source": [
        "### Different techniques used in writing new model\n",
        "1. How many layers,\n",
        "2. MaxPooling,\n",
        "3. 1x1 Convolutions,\n",
        "4. 3x3 Convolutions,\n",
        "5. Receptive Field,\n",
        "6. SoftMax,\n",
        "7. Learning Rate,\n",
        "8. Kernels and how do we decide the number of kernels?\n",
        "9. Batch Normalization,\n",
        "10. Image Normalization,\n",
        "11. Position of MaxPooling,\n",
        "12. Concept of Transition Layers,\n",
        "13. Position of Transition Layer,\n",
        "14. DropOut\n",
        "15. When do we introduce DropOut, or when do we know we have some overfitting\n",
        "16. The distance of MaxPooling from Prediction,\n",
        "17. The distance of Batch Normalization from Prediction,\n",
        "18. When do we stop convolutions and go ahead with a larger kernel or some other alternative (which we have not yet covered)\n",
        "19. How do we know our network is not going well, comparatively, very early\n",
        "20. Batch Size, and Effects of Batch Size\n",
        "21. etc (you can add more if we missed it here)\n",
        "\n",
        "\n"
      ],
      "metadata": {
        "id": "eZ6JRn-VnAC3"
      }
    },
    {
      "cell_type": "markdown",
      "source": [
        "## WRITE THE MODEL AGAIN SUCH THAT IT ACHIEVES\n",
        "1. 99.4% validation/test accuracy (50/10k split, basically we are calling Validation dataset as test dataset itself)\n",
        "2. Less than 20k Parameters\n",
        "3. You can use anything from above you want.\n",
        "4. Less than 20 Epochs\n",
        "5. Have used BN, Dropout,\n",
        "6. (Optional): a Fully connected layer or, have used GAP.\n",
        "7. To learn how to add different things we covered in this session, you can refer to this code: https://www.kaggle.com/enwei26/mnist-digits-pytorch-cnn-99 DONT COPY ARCHITECTURE, JUST LEARN HOW TO INTEGRATE THINGS LIKE DROPOUT, BATCHNORM, ETC.\n",
        "8. **Someone has achieved 99.6% in 3400 parameters in 6 epochs**\n"
      ],
      "metadata": {
        "id": "bzVTYNZVmQG7"
      }
    },
    {
      "cell_type": "code",
      "source": [
        "!pip install torchsummary"
      ],
      "metadata": {
        "id": "LEYhCwd3zZkm"
      },
      "execution_count": null,
      "outputs": []
    },
    {
      "cell_type": "code",
      "metadata": {
        "id": "0m2JWFliFfKT"
      },
      "source": [
        "from __future__ import print_function\n",
        "import torch\n",
        "import torch.nn as nn\n",
        "import torch.nn.functional as F\n",
        "import torch.optim as optim\n",
        "from torchvision import datasets, transforms\n",
        "from tqdm import tqdm\n",
        "from torchsummary import summary"
      ],
      "execution_count": 7,
      "outputs": []
    },
    {
      "cell_type": "code",
      "source": [
        "# My MNIST model training\n",
        "\n",
        "class Network(nn.Module):\n",
        "    def __init__(self):\n",
        "        super().__init__()\n",
        "\n",
        "\n",
        "        self.conv1 = nn.Conv2d(1, 8, 3, padding=1)\n",
        "        self.conv2 = nn.Conv2d(8, 16, 3, padding=1)\n",
        "\n",
        "        self.gap = nn.AdaptiveAvgPool2d(1)\n",
        "        self.fc_gap = nn.Linear(16, 10)\n",
        "\n",
        "        # self.conv3 = nn.Conv2d(32, 64, 3, padding=1)\n",
        "\n",
        "        self.fc1 = nn.Linear(8*7*7, 50)\n",
        "        self.fc2 = nn.Linear(50, 10)\n",
        "\n",
        "        self.pool = nn.MaxPool2d(2, 2)\n",
        "        self.bn1 = nn.BatchNorm2d(8)\n",
        "        self.bn2 = nn.BatchNorm2d(16)\n",
        "        self.bn3 = nn.BatchNorm1d(50)\n",
        "\n",
        "        self.dropout = nn.Dropout(0.25)\n",
        "\n",
        "\n",
        "\n",
        "    def forward(self, x):\n",
        "        x = self.conv1(x)\n",
        "        x = self.bn1(x)\n",
        "        x = F.relu(x)\n",
        "        x = self.pool(x)\n",
        "        #x = self.dropout(x)\n",
        "\n",
        "\n",
        "        x = self.conv2(x)\n",
        "        x = self.bn2(x)\n",
        "        x = F.relu(x)\n",
        "        x = self.pool(x)\n",
        "        #x = self.dropout(x)\n",
        "\n",
        "        # x = self.pool(self.relu(self.conv1(x)))\n",
        "        # x = self.pool(self.relu(self.conv2(x)))\n",
        "        # x = x.view(-1, 8*7*7)\n",
        "\n",
        "        x = self.gap(x)\n",
        "        x = x.view(-1, 16)\n",
        "        x = self.fc_gap(x)\n",
        "\n",
        "\n",
        "        #x = self.fc1(x)\n",
        "        #x = self.bn2(x)\n",
        "        #x = self.relu(x)\n",
        "        #x = self.dropout(x)\n",
        "\n",
        "        #x = self.fc2(x)\n",
        "        return x\n",
        "\n",
        "use_cuda = torch.cuda.is_available()\n",
        "device = torch.device(\"cuda\" if use_cuda else \"cpu\")\n",
        "print(device)\n",
        "model = Network().to(device)\n",
        "summary(model, input_size=(1, 28,28))\n",
        "network = Network()\n",
        "print(network)\n",
        "network.fc2.weight.shape\n",
        "\n",
        "for name, param in network.named_parameters():\n",
        "    print(name, '\\t\\t', param.shape)\n"
      ],
      "metadata": {
        "id": "QtT8m9sAxK3W",
        "outputId": "b48f20e0-0673-4f28-84e5-a6bfdb022b29",
        "colab": {
          "base_uri": "https://localhost:8080/"
        }
      },
      "execution_count": 44,
      "outputs": [
        {
          "output_type": "stream",
          "name": "stdout",
          "text": [
            "cuda\n",
            "----------------------------------------------------------------\n",
            "        Layer (type)               Output Shape         Param #\n",
            "================================================================\n",
            "            Conv2d-1            [-1, 8, 28, 28]              80\n",
            "       BatchNorm2d-2            [-1, 8, 28, 28]              16\n",
            "         MaxPool2d-3            [-1, 8, 14, 14]               0\n",
            "            Conv2d-4           [-1, 16, 14, 14]           1,168\n",
            "       BatchNorm2d-5           [-1, 16, 14, 14]              32\n",
            "         MaxPool2d-6             [-1, 16, 7, 7]               0\n",
            " AdaptiveAvgPool2d-7             [-1, 16, 1, 1]               0\n",
            "            Linear-8                   [-1, 10]             170\n",
            "================================================================\n",
            "Total params: 1,466\n",
            "Trainable params: 1,466\n",
            "Non-trainable params: 0\n",
            "----------------------------------------------------------------\n",
            "Input size (MB): 0.00\n",
            "Forward/backward pass size (MB): 0.16\n",
            "Params size (MB): 0.01\n",
            "Estimated Total Size (MB): 0.17\n",
            "----------------------------------------------------------------\n",
            "Network(\n",
            "  (conv1): Conv2d(1, 8, kernel_size=(3, 3), stride=(1, 1), padding=(1, 1))\n",
            "  (conv2): Conv2d(8, 16, kernel_size=(3, 3), stride=(1, 1), padding=(1, 1))\n",
            "  (gap): AdaptiveAvgPool2d(output_size=1)\n",
            "  (fc_gap): Linear(in_features=16, out_features=10, bias=True)\n",
            "  (fc1): Linear(in_features=392, out_features=50, bias=True)\n",
            "  (fc2): Linear(in_features=50, out_features=10, bias=True)\n",
            "  (pool): MaxPool2d(kernel_size=2, stride=2, padding=0, dilation=1, ceil_mode=False)\n",
            "  (bn1): BatchNorm2d(8, eps=1e-05, momentum=0.1, affine=True, track_running_stats=True)\n",
            "  (bn2): BatchNorm2d(16, eps=1e-05, momentum=0.1, affine=True, track_running_stats=True)\n",
            "  (bn3): BatchNorm1d(50, eps=1e-05, momentum=0.1, affine=True, track_running_stats=True)\n",
            "  (dropout): Dropout(p=0.25, inplace=False)\n",
            ")\n",
            "conv1.weight \t\t torch.Size([8, 1, 3, 3])\n",
            "conv1.bias \t\t torch.Size([8])\n",
            "conv2.weight \t\t torch.Size([16, 8, 3, 3])\n",
            "conv2.bias \t\t torch.Size([16])\n",
            "fc_gap.weight \t\t torch.Size([10, 16])\n",
            "fc_gap.bias \t\t torch.Size([10])\n",
            "fc1.weight \t\t torch.Size([50, 392])\n",
            "fc1.bias \t\t torch.Size([50])\n",
            "fc2.weight \t\t torch.Size([10, 50])\n",
            "fc2.bias \t\t torch.Size([10])\n",
            "bn1.weight \t\t torch.Size([8])\n",
            "bn1.bias \t\t torch.Size([8])\n",
            "bn2.weight \t\t torch.Size([16])\n",
            "bn2.bias \t\t torch.Size([16])\n",
            "bn3.weight \t\t torch.Size([50])\n",
            "bn3.bias \t\t torch.Size([50])\n"
          ]
        }
      ]
    },
    {
      "cell_type": "code",
      "source": [
        "torch.manual_seed(1)\n",
        "batch_size = 128\n",
        "\n",
        "kwargs = {'num_workers': 1, 'pin_memory': True} if use_cuda else {}\n",
        "train_loader = torch.utils.data.DataLoader(\n",
        "    datasets.MNIST('../data', train=True, download=True,\n",
        "                    transform=transforms.Compose([\n",
        "                        transforms.ToTensor(),\n",
        "                        transforms.Normalize((0.1307,), (0.3081,))\n",
        "                    ])),\n",
        "    batch_size=batch_size, shuffle=True, **kwargs)\n",
        "test_loader = torch.utils.data.DataLoader(\n",
        "    datasets.MNIST('../data', train=False, transform=transforms.Compose([\n",
        "                        transforms.ToTensor(),\n",
        "                        transforms.Normalize((0.1307,), (0.3081,))\n",
        "                    ])),\n",
        "    batch_size=batch_size, shuffle=True, **kwargs)\n",
        "\n",
        "\n",
        "def train(model, device, train_loader, optimizer, epoch):\n",
        "    model.train()\n",
        "    pbar = tqdm(train_loader)\n",
        "    for batch_idx, (data, target) in enumerate(pbar):\n",
        "        data, target = data.to(device), target.to(device)\n",
        "        optimizer.zero_grad()\n",
        "        output = model(data)\n",
        "        #loss = F.nll_loss(output, target)\n",
        "        loss = F.cross_entropy(output, target)\n",
        "        loss.backward()\n",
        "        optimizer.step()\n",
        "        pbar.set_description(desc= f'loss={loss.item()} batch_id={batch_idx}')\n",
        "\n",
        "\n",
        "def test(model, device, test_loader):\n",
        "    model.eval()\n",
        "    test_loss = 0\n",
        "    correct = 0\n",
        "    with torch.no_grad():\n",
        "        for data, target in test_loader:\n",
        "            data, target = data.to(device), target.to(device)\n",
        "            output = model(data)\n",
        "            test_loss += F.nll_loss(output, target, reduction='sum').item()  # sum up batch loss\n",
        "            pred = output.argmax(dim=1, keepdim=True)  # get the index of the max log-probability\n",
        "            correct += pred.eq(target.view_as(pred)).sum().item()\n",
        "\n",
        "    test_loss /= len(test_loader.dataset)\n",
        "\n",
        "    print('\\nTest set: Average loss: {:.4f}, Accuracy: {}/{} ({:.1f}%)\\n'.format(\n",
        "        test_loss, correct, len(test_loader.dataset),\n",
        "        100. * correct / len(test_loader.dataset)))\n",
        "\n",
        "model = Network().to(device)\n",
        "#optimizer = optim.SGD(model.parameters(), lr=0.01, momentum=0.9)\n",
        "optimizer = optim.Adam(model.parameters(), lr=0.001)\n",
        "\n",
        "for epoch in range(0, 20):\n",
        "    print(epoch)\n",
        "    train(model, device, train_loader, optimizer, epoch)\n",
        "    test(model, device, test_loader)"
      ],
      "metadata": {
        "id": "eQjSz9vSy7_n",
        "outputId": "49399273-7435-4fe5-df35-3c82a72ce321",
        "colab": {
          "base_uri": "https://localhost:8080/"
        }
      },
      "execution_count": 46,
      "outputs": [
        {
          "output_type": "stream",
          "name": "stdout",
          "text": [
            "0\n"
          ]
        },
        {
          "output_type": "stream",
          "name": "stderr",
          "text": [
            "loss=1.6147176027297974 batch_id=468: 100%|██████████| 469/469 [00:15<00:00, 29.31it/s]\n"
          ]
        },
        {
          "output_type": "stream",
          "name": "stdout",
          "text": [
            "\n",
            "Test set: Average loss: -1.1008, Accuracy: 5062/10000 (50.6%)\n",
            "\n",
            "1\n"
          ]
        },
        {
          "output_type": "stream",
          "name": "stderr",
          "text": [
            "loss=1.164997935295105 batch_id=468: 100%|██████████| 469/469 [00:15<00:00, 29.82it/s]\n"
          ]
        },
        {
          "output_type": "stream",
          "name": "stdout",
          "text": [
            "\n",
            "Test set: Average loss: -1.6387, Accuracy: 6547/10000 (65.5%)\n",
            "\n",
            "2\n"
          ]
        },
        {
          "output_type": "stream",
          "name": "stderr",
          "text": [
            "loss=1.074528694152832 batch_id=468: 100%|██████████| 469/469 [00:16<00:00, 28.54it/s]\n"
          ]
        },
        {
          "output_type": "stream",
          "name": "stdout",
          "text": [
            "\n",
            "Test set: Average loss: -1.9531, Accuracy: 7171/10000 (71.7%)\n",
            "\n",
            "3\n"
          ]
        },
        {
          "output_type": "stream",
          "name": "stderr",
          "text": [
            "loss=0.8416366577148438 batch_id=468: 100%|██████████| 469/469 [00:15<00:00, 29.67it/s]\n"
          ]
        },
        {
          "output_type": "stream",
          "name": "stdout",
          "text": [
            "\n",
            "Test set: Average loss: -2.1820, Accuracy: 7651/10000 (76.5%)\n",
            "\n",
            "4\n"
          ]
        },
        {
          "output_type": "stream",
          "name": "stderr",
          "text": [
            "loss=0.6681423187255859 batch_id=468: 100%|██████████| 469/469 [00:16<00:00, 28.33it/s]\n"
          ]
        },
        {
          "output_type": "stream",
          "name": "stdout",
          "text": [
            "\n",
            "Test set: Average loss: -2.2537, Accuracy: 8088/10000 (80.9%)\n",
            "\n",
            "5\n"
          ]
        },
        {
          "output_type": "stream",
          "name": "stderr",
          "text": [
            "loss=0.5396824479103088 batch_id=468: 100%|██████████| 469/469 [00:15<00:00, 29.79it/s]\n"
          ]
        },
        {
          "output_type": "stream",
          "name": "stdout",
          "text": [
            "\n",
            "Test set: Average loss: -2.3470, Accuracy: 8584/10000 (85.8%)\n",
            "\n",
            "6\n"
          ]
        },
        {
          "output_type": "stream",
          "name": "stderr",
          "text": [
            "loss=0.46318402886390686 batch_id=468: 100%|██████████| 469/469 [00:16<00:00, 29.13it/s]\n"
          ]
        },
        {
          "output_type": "stream",
          "name": "stdout",
          "text": [
            "\n",
            "Test set: Average loss: -2.3556, Accuracy: 8517/10000 (85.2%)\n",
            "\n",
            "7\n"
          ]
        },
        {
          "output_type": "stream",
          "name": "stderr",
          "text": [
            "loss=0.4312988519668579 batch_id=468: 100%|██████████| 469/469 [00:15<00:00, 30.05it/s]\n"
          ]
        },
        {
          "output_type": "stream",
          "name": "stdout",
          "text": [
            "\n",
            "Test set: Average loss: -2.5443, Accuracy: 8426/10000 (84.3%)\n",
            "\n",
            "8\n"
          ]
        },
        {
          "output_type": "stream",
          "name": "stderr",
          "text": [
            "loss=0.37665653228759766 batch_id=468: 100%|██████████| 469/469 [00:15<00:00, 30.10it/s]\n"
          ]
        },
        {
          "output_type": "stream",
          "name": "stdout",
          "text": [
            "\n",
            "Test set: Average loss: -2.6050, Accuracy: 8773/10000 (87.7%)\n",
            "\n",
            "9\n"
          ]
        },
        {
          "output_type": "stream",
          "name": "stderr",
          "text": [
            "loss=0.5190789103507996 batch_id=468: 100%|██████████| 469/469 [00:15<00:00, 29.64it/s]\n"
          ]
        },
        {
          "output_type": "stream",
          "name": "stdout",
          "text": [
            "\n",
            "Test set: Average loss: -2.5867, Accuracy: 9019/10000 (90.2%)\n",
            "\n",
            "10\n"
          ]
        },
        {
          "output_type": "stream",
          "name": "stderr",
          "text": [
            "loss=0.364950567483902 batch_id=468: 100%|██████████| 469/469 [00:15<00:00, 30.20it/s]\n"
          ]
        },
        {
          "output_type": "stream",
          "name": "stdout",
          "text": [
            "\n",
            "Test set: Average loss: -2.7249, Accuracy: 9104/10000 (91.0%)\n",
            "\n",
            "11\n"
          ]
        },
        {
          "output_type": "stream",
          "name": "stderr",
          "text": [
            "loss=0.38213708996772766 batch_id=468: 100%|██████████| 469/469 [00:16<00:00, 29.06it/s]\n"
          ]
        },
        {
          "output_type": "stream",
          "name": "stdout",
          "text": [
            "\n",
            "Test set: Average loss: -2.7691, Accuracy: 9144/10000 (91.4%)\n",
            "\n",
            "12\n"
          ]
        },
        {
          "output_type": "stream",
          "name": "stderr",
          "text": [
            "loss=0.31533968448638916 batch_id=468: 100%|██████████| 469/469 [00:15<00:00, 29.67it/s]\n"
          ]
        },
        {
          "output_type": "stream",
          "name": "stdout",
          "text": [
            "\n",
            "Test set: Average loss: -2.7589, Accuracy: 9150/10000 (91.5%)\n",
            "\n",
            "13\n"
          ]
        },
        {
          "output_type": "stream",
          "name": "stderr",
          "text": [
            "loss=0.43233048915863037 batch_id=468: 100%|██████████| 469/469 [00:16<00:00, 28.38it/s]\n"
          ]
        },
        {
          "output_type": "stream",
          "name": "stdout",
          "text": [
            "\n",
            "Test set: Average loss: -2.7514, Accuracy: 9006/10000 (90.1%)\n",
            "\n",
            "14\n"
          ]
        },
        {
          "output_type": "stream",
          "name": "stderr",
          "text": [
            "loss=0.25698861479759216 batch_id=468: 100%|██████████| 469/469 [00:15<00:00, 29.93it/s]\n"
          ]
        },
        {
          "output_type": "stream",
          "name": "stdout",
          "text": [
            "\n",
            "Test set: Average loss: -2.7058, Accuracy: 9276/10000 (92.8%)\n",
            "\n",
            "15\n"
          ]
        },
        {
          "output_type": "stream",
          "name": "stderr",
          "text": [
            "loss=0.3465283215045929 batch_id=468: 100%|██████████| 469/469 [00:16<00:00, 28.49it/s]\n"
          ]
        },
        {
          "output_type": "stream",
          "name": "stdout",
          "text": [
            "\n",
            "Test set: Average loss: -2.9220, Accuracy: 9236/10000 (92.4%)\n",
            "\n",
            "16\n"
          ]
        },
        {
          "output_type": "stream",
          "name": "stderr",
          "text": [
            "loss=0.20077134668827057 batch_id=468: 100%|██████████| 469/469 [00:15<00:00, 29.69it/s]\n"
          ]
        },
        {
          "output_type": "stream",
          "name": "stdout",
          "text": [
            "\n",
            "Test set: Average loss: -2.7388, Accuracy: 9266/10000 (92.7%)\n",
            "\n",
            "17\n"
          ]
        },
        {
          "output_type": "stream",
          "name": "stderr",
          "text": [
            "loss=0.26054638624191284 batch_id=468: 100%|██████████| 469/469 [00:15<00:00, 29.58it/s]\n"
          ]
        },
        {
          "output_type": "stream",
          "name": "stdout",
          "text": [
            "\n",
            "Test set: Average loss: -2.8578, Accuracy: 9268/10000 (92.7%)\n",
            "\n",
            "18\n"
          ]
        },
        {
          "output_type": "stream",
          "name": "stderr",
          "text": [
            "loss=0.4773117005825043 batch_id=468: 100%|██████████| 469/469 [00:15<00:00, 29.87it/s]\n"
          ]
        },
        {
          "output_type": "stream",
          "name": "stdout",
          "text": [
            "\n",
            "Test set: Average loss: -2.9197, Accuracy: 9121/10000 (91.2%)\n",
            "\n",
            "19\n"
          ]
        },
        {
          "output_type": "stream",
          "name": "stderr",
          "text": [
            "loss=0.39057254791259766 batch_id=468: 100%|██████████| 469/469 [00:15<00:00, 30.01it/s]\n"
          ]
        },
        {
          "output_type": "stream",
          "name": "stdout",
          "text": [
            "\n",
            "Test set: Average loss: -2.8473, Accuracy: 9174/10000 (91.7%)\n",
            "\n"
          ]
        }
      ]
    },
    {
      "cell_type": "code",
      "metadata": {
        "id": "h_Cx9q2QFgM7"
      },
      "source": [
        "# The Base file provided\n",
        "\n",
        "class Net(nn.Module):\n",
        "    def __init__(self):\n",
        "        super(Net, self).__init__()\n",
        "        self.conv1 = nn.Conv2d(1, 8, 3, padding=1)      #input:28x28 Output:28x28 RF:3      #input: Output: RF:\n",
        "        self.conv2 = nn.Conv2d(8, 16, 3, padding=1)     #input:28x28x8 Output:28x28x16 RF:5\n",
        "        self.pool1 = nn.MaxPool2d(2, 2)                 #input:28x28x16 Output:14x14x16 RF: 10\n",
        "        self.conv3 = nn.Conv2d(16, 32, 3, padding=1)   #input: Output: RF:\n",
        "        self.conv4 = nn.Conv2d(32, 64, 3, padding=1)  #input: Output: RF:\n",
        "        self.pool2 = nn.MaxPool2d(2, 2)                 #input: Output: RF:\n",
        "        self.conv5 = nn.Conv2d(256, 512, 3)             #input: Output: RF:\n",
        "        self.conv6 = nn.Conv2d(512, 1024, 3)            #input: Output: RF:\n",
        "        self.conv7 = nn.Conv2d(1024, 10, 3)             #input: Output: RF:\n",
        "\n",
        "        self.fc1 = nn.Linear(16*7*7, 10)\n",
        "        #self.fc2 = nn.Linear(128, 10)\n",
        "\n",
        "    def forward(self, x):\n",
        "        x = self.pool1(F.relu(self.conv2(F.relu(self.conv1(x)))))\n",
        "        x = self.pool2(F.relu(self.conv4(F.relu(self.conv3(x)))))\n",
        "        x = F.relu(self.conv6(F.relu(self.conv5(x))))\n",
        "        x = F.relu(self.conv7(x))\n",
        "        x = x.view(-1, 10)\n",
        "        return F.log_softmax(x)"
      ],
      "execution_count": null,
      "outputs": []
    },
    {
      "cell_type": "code",
      "metadata": {
        "id": "xdydjYTZFyi3",
        "outputId": "a0bd0211-b3aa-433d-d977-5044380ee37d",
        "colab": {
          "base_uri": "https://localhost:8080/"
        }
      },
      "source": [
        "!pip install torchsummary\n",
        "from torchsummary import summary\n",
        "use_cuda = torch.cuda.is_available()\n",
        "device = torch.device(\"cuda\" if use_cuda else \"cpu\")\n",
        "model = Net().to(device)\n",
        "summary(model, input_size=(1, 28, 28))"
      ],
      "execution_count": null,
      "outputs": [
        {
          "output_type": "stream",
          "name": "stdout",
          "text": [
            "Requirement already satisfied: torchsummary in /usr/local/lib/python3.10/dist-packages (1.5.1)\n",
            "----------------------------------------------------------------\n",
            "        Layer (type)               Output Shape         Param #\n",
            "================================================================\n",
            "            Conv2d-1            [-1, 8, 28, 28]              80\n",
            "         MaxPool2d-2            [-1, 8, 14, 14]               0\n",
            "            Conv2d-3           [-1, 16, 14, 14]           1,168\n",
            "         MaxPool2d-4             [-1, 16, 7, 7]               0\n",
            "            Linear-5                   [-1, 10]           7,850\n",
            "================================================================\n",
            "Total params: 9,098\n",
            "Trainable params: 9,098\n",
            "Non-trainable params: 0\n",
            "----------------------------------------------------------------\n",
            "Input size (MB): 0.00\n",
            "Forward/backward pass size (MB): 0.09\n",
            "Params size (MB): 0.03\n",
            "Estimated Total Size (MB): 0.13\n",
            "----------------------------------------------------------------\n"
          ]
        }
      ]
    },
    {
      "cell_type": "code",
      "metadata": {
        "id": "DqTWLaM5GHgH"
      },
      "source": [
        "\n",
        "\n",
        "torch.manual_seed(1)\n",
        "batch_size = 128\n",
        "\n",
        "kwargs = {'num_workers': 1, 'pin_memory': True} if use_cuda else {}\n",
        "train_loader = torch.utils.data.DataLoader(\n",
        "    datasets.MNIST('../data', train=True, download=True,\n",
        "                    transform=transforms.Compose([\n",
        "                        transforms.ToTensor(),\n",
        "                        transforms.Normalize((0.1307,), (0.3081,))\n",
        "                    ])),\n",
        "    batch_size=batch_size, shuffle=True, **kwargs)\n",
        "test_loader = torch.utils.data.DataLoader(\n",
        "    datasets.MNIST('../data', train=False, transform=transforms.Compose([\n",
        "                        transforms.ToTensor(),\n",
        "                        transforms.Normalize((0.1307,), (0.3081,))\n",
        "                    ])),\n",
        "    batch_size=batch_size, shuffle=True, **kwargs)\n"
      ],
      "execution_count": null,
      "outputs": []
    },
    {
      "cell_type": "code",
      "metadata": {
        "id": "8fDefDhaFlwH"
      },
      "source": [
        "from tqdm import tqdm\n",
        "def train(model, device, train_loader, optimizer, epoch):\n",
        "    model.train()\n",
        "    pbar = tqdm(train_loader)\n",
        "    for batch_idx, (data, target) in enumerate(pbar):\n",
        "        data, target = data.to(device), target.to(device)\n",
        "        optimizer.zero_grad()\n",
        "        output = model(data)\n",
        "        loss = F.nll_loss(output, target)\n",
        "        loss.backward()\n",
        "        optimizer.step()\n",
        "        pbar.set_description(desc= f'loss={loss.item()} batch_id={batch_idx}')\n",
        "\n",
        "\n",
        "def test(model, device, test_loader):\n",
        "    model.eval()\n",
        "    test_loss = 0\n",
        "    correct = 0\n",
        "    with torch.no_grad():\n",
        "        for data, target in test_loader:\n",
        "            data, target = data.to(device), target.to(device)\n",
        "            output = model(data)\n",
        "            test_loss += F.nll_loss(output, target, reduction='sum').item()  # sum up batch loss\n",
        "            pred = output.argmax(dim=1, keepdim=True)  # get the index of the max log-probability\n",
        "            correct += pred.eq(target.view_as(pred)).sum().item()\n",
        "\n",
        "    test_loss /= len(test_loader.dataset)\n",
        "\n",
        "    print('\\nTest set: Average loss: {:.4f}, Accuracy: {}/{} ({:.0f}%)\\n'.format(\n",
        "        test_loss, correct, len(test_loader.dataset),\n",
        "        100. * correct / len(test_loader.dataset)))"
      ],
      "execution_count": null,
      "outputs": []
    },
    {
      "cell_type": "code",
      "metadata": {
        "id": "MMWbLWO6FuHb",
        "outputId": "16e1a86d-97ac-4fbb-8dad-a166fe0abbb2",
        "colab": {
          "base_uri": "https://localhost:8080/"
        }
      },
      "source": [
        "\n",
        "model = Net().to(device)\n",
        "optimizer = optim.SGD(model.parameters(), lr=0.01, momentum=0.9)\n",
        "\n",
        "for epoch in range(1, 2):\n",
        "    print(epoch)\n",
        "    train(model, device, train_loader, optimizer, epoch)\n",
        "    test(model, device, test_loader)"
      ],
      "execution_count": null,
      "outputs": [
        {
          "output_type": "stream",
          "name": "stderr",
          "text": [
            "loss=nan batch_id=468: 100%|██████████| 469/469 [00:18<00:00, 25.17it/s]\n"
          ]
        },
        {
          "output_type": "stream",
          "name": "stdout",
          "text": [
            "\n",
            "Test set: Average loss: nan, Accuracy: 980/10000 (10%)\n",
            "\n"
          ]
        }
      ]
    },
    {
      "cell_type": "code",
      "metadata": {
        "id": "So5uk4EkHW6R"
      },
      "source": [],
      "execution_count": null,
      "outputs": []
    }
  ]
}